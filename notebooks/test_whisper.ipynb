{
 "cells": [
  {
   "cell_type": "code",
   "execution_count": 2,
   "metadata": {},
   "outputs": [
    {
     "name": "stderr",
     "output_type": "stream",
     "text": [
      "c:\\Users\\TeYan\\Documents\\YOListenO\\venv\\lib\\site-packages\\whisper\\timing.py:58: NumbaDeprecationWarning: \u001b[1mThe 'nopython' keyword argument was not supplied to the 'numba.jit' decorator. The implicit default value for this argument is currently False, but it will be changed to True in Numba 0.59.0. See https://numba.readthedocs.io/en/stable/reference/deprecation.html#deprecation-of-object-mode-fall-back-behaviour-when-using-jit for details.\u001b[0m\n",
      "  def backtrace(trace: np.ndarray):\n"
     ]
    }
   ],
   "source": [
    "import whisper\n",
    "\n",
    "# requires command-line tool ffmpeg (not python ffmpeg) installed on computer\n",
    "# download ffmpeg and put into C drive\n",
    "# add ffmpeg/binary folder to Windows system variables PATH and restart computer"
   ]
  },
  {
   "cell_type": "code",
   "execution_count": 3,
   "metadata": {},
   "outputs": [
    {
     "name": "stderr",
     "output_type": "stream",
     "text": [
      "c:\\Users\\TeYan\\Documents\\YOListenO\\venv\\lib\\site-packages\\whisper\\transcribe.py:114: UserWarning: FP16 is not supported on CPU; using FP32 instead\n",
      "  warnings.warn(\"FP16 is not supported on CPU; using FP32 instead\")\n"
     ]
    },
    {
     "name": "stdout",
     "output_type": "stream",
     "text": [
      " Before he had time to answer a much encumbered Vera burst into the room with the question, I say, can I leave these here? These were a small black pig and a lusty specimen of black red gamecock.\n"
     ]
    }
   ],
   "source": [
    "# https://platform.openai.com/docs/guides/speech-to-text/prompting\n",
    "model = whisper.load_model(\"base\")\n",
    "result = model.transcribe(\n",
    "    audio=\"../samples/audio/sample2.flac\",\n",
    "    initial_prompt=\"This is about characters talking\",\n",
    ")\n",
    "print(result[\"text\"])"
   ]
  },
  {
   "cell_type": "code",
   "execution_count": 4,
   "metadata": {},
   "outputs": [
    {
     "data": {
      "text/plain": [
       "{'text': ' Before he had time to answer a much encumbered Vera burst into the room with the question, I say, can I leave these here? These were a small black pig and a lusty specimen of black red gamecock.',\n",
       " 'segments': [{'id': 0,\n",
       "   'seek': 0,\n",
       "   'start': 0.0,\n",
       "   'end': 5.6000000000000005,\n",
       "   'text': ' Before he had time to answer a much encumbered Vera burst into the room with the question,',\n",
       "   'tokens': [50364,\n",
       "    4546,\n",
       "    415,\n",
       "    632,\n",
       "    565,\n",
       "    281,\n",
       "    1867,\n",
       "    257,\n",
       "    709,\n",
       "    2058,\n",
       "    4182,\n",
       "    292,\n",
       "    46982,\n",
       "    12712,\n",
       "    666,\n",
       "    264,\n",
       "    1808,\n",
       "    365,\n",
       "    264,\n",
       "    1168,\n",
       "    11,\n",
       "    50644],\n",
       "   'temperature': 0.0,\n",
       "   'avg_logprob': -0.27527182709937004,\n",
       "   'compression_ratio': 1.3287671232876712,\n",
       "   'no_speech_prob': 0.0025963291991502047},\n",
       "  {'id': 1,\n",
       "   'seek': 0,\n",
       "   'start': 5.6000000000000005,\n",
       "   'end': 14.0,\n",
       "   'text': ' I say, can I leave these here? These were a small black pig and a lusty specimen of black red gamecock.',\n",
       "   'tokens': [50644,\n",
       "    286,\n",
       "    584,\n",
       "    11,\n",
       "    393,\n",
       "    286,\n",
       "    1856,\n",
       "    613,\n",
       "    510,\n",
       "    30,\n",
       "    1981,\n",
       "    645,\n",
       "    257,\n",
       "    1359,\n",
       "    2211,\n",
       "    8120,\n",
       "    293,\n",
       "    257,\n",
       "    24672,\n",
       "    88,\n",
       "    34204,\n",
       "    295,\n",
       "    2211,\n",
       "    2182,\n",
       "    1216,\n",
       "    29779,\n",
       "    13,\n",
       "    51064],\n",
       "   'temperature': 0.0,\n",
       "   'avg_logprob': -0.27527182709937004,\n",
       "   'compression_ratio': 1.3287671232876712,\n",
       "   'no_speech_prob': 0.0025963291991502047}],\n",
       " 'language': 'en'}"
      ]
     },
     "execution_count": 4,
     "metadata": {},
     "output_type": "execute_result"
    }
   ],
   "source": [
    "result"
   ]
  },
  {
   "cell_type": "code",
   "execution_count": 9,
   "metadata": {},
   "outputs": [],
   "source": [
    "result2 = model.transcribe(\n",
    "    audio=\"../samples/audio/Deep Learning (for Audio) with Python Course Overview.mp3\",\n",
    "    initial_prompt=\"Hello, this is a lecture about deep learning\",\n",
    ")  # add punctuation in prompt to include punctuations in output"
   ]
  },
  {
   "cell_type": "code",
   "execution_count": 10,
   "metadata": {},
   "outputs": [
    {
     "name": "stdout",
     "output_type": "stream",
     "text": [
      " Hi everybody and welcome to Deep Learning for Audio with Python. In this course we're going to learn a lot about deep learning. So what about the learning goals? So first of all, I want you to understand the capabilities and limits of deep learning. So what's possible and what's not possible? Then after that we're going to learn a lot about the fundamental theory behind neural networks. We're going to learn a little bit about the math, for example, that powers this very powerful algorithms. And then we're going to move on to more practice-based stuff. And we're going to learn how to code deep learning networks using industry standards deep learning libraries like TensorFlow. And then obviously we're going to play around with a bunch of different types of neural networks. So like RNMs, CNNs, we're going to learn what all of these action names like really stand for. Cool. The one thing that you should understand about this course is that its focus is on audio and music. Now, can you follow this course even if you're not interested in audio at all? Yes, you can because at the end of the day this is a deep learning course. And so you're going to learn all the theory and implementation about deep learning, but bear in mind that all the examples are good or most of the examples I should say are going to be using audio data or music. Now, what about the technologies that we're going to use? So obviously we're going to use Python. And on top of that we're going to use TensorFlow. So why did they choose both technologies? Right. So Python and TensorFlow are both industry standards for artificial intelligence. So if you're trying to like pick up a job in AI or machine learning, obviously you already know that Python is the way to go. You're going to be required to know or learn Python. And then obviously on top of that, does this super nice deep learning library called TensorFlow, which is used almost everywhere in startups, corporations and even in academia and for doing research. Now, the great thing about TensorFlow is that on top of TensorFlow you have kind of like high-level interface that's called Keras that enables you to create very complex networks using very little code. So that's fantastic and that's very nice. Like just like to get started with deep learning. And finally, another reason why we are going to use TensorFlow is because it is open source. And so if you want to take things around, you actually can. Now, what about the content? So what are we going to actually learn? So you're going to get an intro to artificial intelligence, machine learning and deep learning. So you were going to kind of like learn the differences and the overlaps of these different fields and subfields. But then after that, we're going to move on and jump into the different flavors of new networks that are out there. So we'll start with something that's been like historically the initial network that has been widely adopted. And that's the multilayer perception. Then after that, we're going to get into convolutional neural networks or CNNs. And you may be familiar at least like with this acronym and these networks are super useful for doing processing with images or and also like read audio. And then we're going to jump onto recurrent neural networks or RNNs. And these are fantastic algorithms that you want to use for predicting like time series and for handling time series types of data. And then finally, we're going to look into guns or generative adversarial networks that are super fashionable these days. So what should you expect from this course? What type of style in some stuff like learning? Well, we're going to have three different blocks, I would say. Well, we're going to learn quite a lot about theory. Now, I'm not going to go super deep into math because at the end of the day, this is not a math course, but you're going to learn quite a lot about basic linear algebra and derivatives and these kind of things because we need them to understand how neural networks work and how to trick them in order to have like very effective like algorithms like for solving our problems. Now, we're going to use all of these theory and we're going to implement that. And so basically we're going to have a bunch of different coding tutorials where we're going to use both Python for coding neural networks from scratch. But then on top of that, we're going to have TensorFlow code where we're going to create very complex neural networks. Now, the third part of this is we're going to have a bunch of different applications, kind of real word applications, I would say, where we're going to test all of the knowledge that we've acquired from theory and basic TensorFlow code. So obviously, this is like a very important question. So where do you get code and slides? So I'm going to have a GitHub page like my GitHub page and I'm going to post all of this lessons online. And so you can just like browse them and download what you need. And obviously all of this information is going to be below in the description of each video in the series. Cool. So who's this course for? Now, when I designed this course, I had in mind Python developers who want to pick up deep learning skills. And so this is not a course for beginners, rather like for actual developers. And also this, if you are like a dev who's already playing around with a bunch of this deep learning libraries like TensorFlow, for example, but you want to learn more about how you can, so how like neural networks really work like under the hood. So this is really perfect for you because you're going to get like an understanding like at a deeper level. Now, obviously, this course is also very useful for devs who have an interest in audio and music. Because at the end of the day, you're going to be introduced to AI music and AI audio. And if you are a practitioner who's got some experience in audio digital signal processing or DSP and you want to step up your game even more and get into a UI, again, this is like the right course for you. And finally, I think like another category who would benefit quite a lot from this course are a data analyst who want to learn more about machine learning and who want to learn more about AI as well and how to get things out. As I mentioned, this is not a course for Python beginners, rather you should have some intermediate coding skills because at the end of the day, I'm not going to teach you how to code the focus of this course is on AI, not coding itself. Now, if you know quite a lot about basic linear algebra, that's fantastic, but it's definitely not necessary because I'm going to cover all the month will need to understand neural networks. At the same time, if you know about audio digital signal processing, that's fantastic. But it's not really necessary because again, I'm going to cover all the DSP stuff that we really need. Cool. So this was it for the course overview. So now just brace yourself. Deep learning is coming. Bye.\n"
     ]
    }
   ],
   "source": [
    "print(result2[\"text\"])"
   ]
  },
  {
   "cell_type": "code",
   "execution_count": 11,
   "metadata": {},
   "outputs": [
    {
     "name": "stderr",
     "output_type": "stream",
     "text": [
      "c:\\Users\\TeYan\\Documents\\YOListenO\\venv\\lib\\site-packages\\whisper\\transcribe.py:114: UserWarning: FP16 is not supported on CPU; using FP32 instead\n",
      "  warnings.warn(\"FP16 is not supported on CPU; using FP32 instead\")\n"
     ]
    }
   ],
   "source": [
    "result3 = model.transcribe(\n",
    "    \"../samples/audio/AI, machine learning and deep learning.mp4\"\n",
    ")"
   ]
  },
  {
   "cell_type": "code",
   "execution_count": 12,
   "metadata": {},
   "outputs": [
    {
     "name": "stdout",
     "output_type": "stream",
     "text": [
      " Hi everybody and welcome to a new video in the Deep Learning for Audio with Python series. In this video we're going to have an overview at Artificial Intelligence Machine Learning and Deep Learning. These are some of the topics that we're going to be covering during the video so we're going to define Artificial Intelligence and see the relationship which machine learning and Deep Learning. Then we're going to talk about a number of different machine learning flavors or paradigms, like supervised, unsupervised, and reinforcement learning. Then we're going to get into defining Deep Learning. Then we're going to see the difference between traditional machine learning and Deep Learning. Finally we're going to be talking a little bit about possible applications of Deep Learning in audio and music technology. Cool. Let's get started with the relationship between Artificial Intelligence Machine Learning and Deep Learning. Usually you'll hear this term, or sometimes you'll hear this term interchangeably, like Artificial Intelligence or Machine Learning. Actually, Artificial Intelligence is the bigger set. Machine Learning is just a part of AI and then Deep Learning is a subset of machine learning. So AI is the big thing. Machine Learning is but one technique or one series of algorithms that you use inside the AI field which is bigger than machine learning. Then you have Deep Learning. The den again is one subset of machine learning. So how do we define Artificial Intelligence? Well, there's a fantastic definition given by Russell and Norvik in a book that's basically a Bible for Artificial Intelligence and the book is called Artificial Intelligence and Modern Approach. The two scholars define AI as the designing and building of intelligent agents that receive per seps from the environment and take actions that affect the environment. So basically for these guys for Russell and Norvik, AI is just like the creation, the science and the art of building like these intelligent agents. But then obviously one could ask but with a minute what's an intelligent agent? So here it seems that we are shifting the definition of Artificial Intelligence towards that of like an intelligent agent. So what's an intelligent agent? And so an intelligent agent in the field of AI is basically a rational agent, right? But now it seems like that we are still shifting like the definition of AI once more. Okay, so an intelligent agent is a rational agent but what's rationality? What's a rational agent? Well, rationality basically means that if you are rational you are being, you are acting to achieve your own goals given your beliefs. So you're basically building like the best strategies possible to achieve your goals given like your beliefs. So basically all like the situation in the context like you find yourself like in. So in that sense a rational agent is an agent that's able to optimize his actions in order to achieve its goals. Right. So we were saying that Artificial Intelligence is more than machine learning. So there are many AI techniques and algorithms out there. So here I went just to mention just like a few but there are way more than this. So for example, evolutionary algorithms that exploit ideas that come a little bit I would say they're from biology and it's kind of like using like genetic algorithms or like things that come from biology but using them like in a kind of like computer science in their context. Then we have expert systems which are systems that use rules to make decisions and just like to solve problems. Then we have like other types of like algorithms like search algorithms like one that's like very popular. It's called a star and this is used a lot for example in video games like for path finding. So to just like move characters around for example and for solving problems as well. And then obviously we have machine learning which is one of this but then again Artificial Intelligence has loads and loads of different techniques and algorithms and machine learning is one category like it's one subset of Artificial Intelligence. Right. So now let's focus on machine learning or ML. So what's machine learning? Well in machine learning you have a computer that performs task without using explicit instructions. So basically the computer is able to learn from data. So as developers or as researchers we've done instruct the computer with specific rules to solve a problem rather we let the computer or like the program the ML program to figure the rules by itself using data. Now let's take a look at the difference between like machine learning and other types of like AI systems, more traditional systems like expert systems. And so if we're doing this we're going to look at a task that is all is used like in audio like analysis or like AI music. It's quite common and it's called onset detection. And basically the onset detection task is great simple to understand because all you need to do is to identify the start of a musical note. Imagine you have a melody so a series of different musical notes and you want to identify when that melody starts. And here you have a waveform and it's kind of like very simple actually understand where like where we have like all the different notes because it's basically a burst in energy which is like a pick that you have like on the y-axis. So here obviously we have a waveform and then here you can see that like in with this picks on the y-axis you have an onset you have a note. As you remember here like on the x-axis you have time whereas on the y-axis you have the amplitude or like loudness if you will. And then when you have like this burst in energy here it means that that does an event and so there's a onset more likely. So let's take a look at how we would solve this problem with machine learning and expert system. So identifying the onset like in this waveform. Right, let's start with the expert system. So for an expert system what we would do is like we would hardwire certain rules into the system and then the system would be able to identify the onset by relying on rules that we as developers have provided it with. Right, so in this case so what could be like a rule that we could use here. Right, so if you look at this you could say well if we have here like on the y-axis so like the amplitude is more than 0.2 or less than minus 0.2 then probably you have an onset. Right, and so we could use just like this very basic rule and then we would end up with this result so we would be able to identify all of these guys like here like vertical bars in red. And obviously as you can see here there are certain things that can't be identified and are like this smaller outburst of energy here because like they are less than 0.2 or like in some sort of like amplitude and so we don't cover those with our simple rule. Right, but this is like an expert based approach so we provided the rules to the system and the system has learned basically just like by what we told it to do. Right, so now let's take another way to solving the same problem. Let's take the machine learning route here. So and how do we approach this problem? Well it's kind of relatively simple like on a very high level here so because basically the idea is that we provide to the machine learning system which is like this nice robot over here we provide a bunch of data with samples regarding where we have a lot of like these waveforms which onces that have been identified so they are labeled. So we know that we have on sets like for example here here here and here and so we pass all of these information to the machine learning system and then the machine learning system is able to abstract from all of that data and derive the rules by itself. So basically we're not providing the machine learning system any rule beforehand rather we're passing only a bunch of data and we hope that the machine learning system is going to be able to recognize those rules and so this process is called learning and it's only like half of the whole machine learning process and workflow. So we train machine learning system first and then we use it for inference and then in a kind of like inference setting what we do is we provide the system with the new waveform that the machine system has never seen before and then hopefully the machine learning model will be able to identify in this case all the onces that we need. So this is more or less like the difference between a machine learning based approach and more traditionally our approach based on expert rules but now in machine learning we have a bunch of different paradigms or flavors if you will. So here I'm going to just like refer to three but there are a little bit more so like the first one is obviously like supervised learning and it's the one that will be mainly focusing on throughout the whole series then we have unsupervised learning and then a reinforcement learning. So let's get started for an supervised learning. So in supervised learning so when we provide the training data sets so the data that the machine learning model will learn from we pass it with lab labeled data. So basically what we give the system is a bunch of data where all the in this case the onsets are annotated so there's a solution there to the problem along with the data itself. So we pass the waveform and we also pass all the onsets so that the machine learning system is able like to match the row data against the solution or the identification of the different onsets and so this way the system is able to learn the rules and to tweak all of its weights based on samples. So this is supervised learning in a nutshell and as I said we'll be focusing a lot on this paradigm but then you have another paradigm that's very handy when you don't have labeled data and that's called unsupervised learning and in this case the model draws inferences from unstructured data or data that's not labeled. So say for example here we had the data set where we have both like apples like in oranges obviously like this is like an abstract like example but you yeah but it's easy like to understand. So the algorithm is only passed all of these data so both like apples and oranges but we don't say we don't tell the algorithm that's like these red fruits here are apples whereas the orange ones are oranges right and so using certain unsupervised algorithms the system will be able to divide up this unstructured data and hopefully create clusters create like differentations between apples and oranges. So in other words the algorithm is able to learn to separate this data without knowing the labeled like of this different data beforehand and this can be like very handy if you have a lot of data but this data like is not labeled right. So and a third type of machine learning is the so-called reinforcement learning. In this case we have an agent, a rational agent as we defined it, that takes actions in virtual environments and learns through rewards and punishment. So in other words like here we have an agent that's put like in a virtual environment and that goes through a series of long simulations. So and to understand a little bit more about reinforcement learning we can look at Alpha Zero which is an amazing reinforcement learning model that has been developed by Google Deep Mind and the fantastic thing about this model is that they trained this model only playing chess or shoggy or go against itself. So you have the agent that plays against itself and then by playing loads and loads and loads of chess games for example against itself the system has been able to learn chess from scratch without giving it any knowledge about chess apart from how the different pieces move and then in a matter of like probably less than a day or something like that the Alpha Zero was able to master chess to superhuman level and the amazing thing is that the very same algorithm has been used by Deep Mind for cracking chess shoggy that's also like another board game and go and as you can see here you have a little bit like of the results of the Alpha Zero competing against other top notch AI systems that play chess shoggy and a go and for example here in chess you can see that Alpha Zero completely destroyed stockfish that was the at the time I believe the world chess champion like for a software like in plain chess right so if you want to know more about Alpha Zero you can take a look at this article it's great shedding new light on chess shoggy and go and you have a link to this article in the description below but basically take away a point here is that with reinforcement learning you have an agent the agent is trained in an environment and in order to learn how to behave to say in order to learn like the different strategies to use the the agent goes through a series of rewards if it does well and of punishment if it does like poorly right but as I said we will be focusing on a supervised learning mainly right so machine learning itself has a bunch of different algorithms so that there's really a ton of these but like some of the ones like that I would say like the most popular are logistic regression linear regression random forest K&N or K nearest neighbor and support vector machines and obviously another algorithm that's like very very fashionable like at this moment in time it's neural networks or artificial neural networks I should say right so in this case a neural network is an algorithm that relies on a bunch of neurons we I won't be getting into the details because like we'll we'll do that like over the next few videos but for the timing what it's important for you to understand is that a neural network is structured in a series of a neural neural layers and the different neurons acts as computational units right so here we have in this neural network a bunch of different layers so there's like the first layer that's called input layer which is the one that we use for actually providing the different data into the neural network then we have the hidden layers which process the information and finally we have the last layer that's called the output layer that we usually use to to get like the inferences from a neural network right so it's important to understand that neural networks are machine learning algorithms because they are the algorithms of choice of deep learning so deep learning itself is a subset of machine learning as we've seen and it uses deep neural networks so what's a deep neural network is a neural network that has more than one hidden layer so that's it so this is deep learning basically so using deep neural nets for solving all sorts of like very complicated problems and basically throughout these series of videos we're going to be just like coding deep neural nets and we're going to be seeing like different flavors of like neural nets cool so now let's take a look at the actual differences between traditional machine learning and deep learning so the main one that comes to mind is that traditional machine learning you have you do a lot of feature engineering whereas in deep learning you have another type of approach which is more end-to-end so what do I mean by that so let me explain because it could be like a little bit like tough like to understand so let's let's focus a little bit like on feature engineering so as we said like in supervised learning what we usually do is like we pass a lot of like label data to a machine learning algorithm and the algorithm learns and extracts like the rules from the data but when I when I mentioned supervised learning first I ignored umpopus obviously a an important part of this that happens in traditional machine learning which is like feature engineering so let's go back to the idea to the example of like extracting onset or identifying onset from waveforms so in that case what we want to do if we are using for example super vector machines or like there's more traditional um ML algorithms is we extracts features from the data itself so in this case for example from a waveform we can extract certain features like zero crossing rates or special flux or a bunch like a voter features so we extract this features first and then we pass this features into the machine learning algorithm and then the machine algorithm uh uh at the ML algorithm hopefully we'll be able to extracts the rules figure out the rules for doing like this classification problem now so like in feature engineering like and traditional machine learning it's very important to understand which features are important for describing a certain problem so we start from the row data we extract certain features and we use those features for doing training and then inference obviously so in deep learning it's a little bit different we have an end to end approach what do you mean by that well it's uh on a an intuitive level it's it's kind of very simple to grasp because basically all we do with deep learning is we pass on row data directly to the machine learning algorithm and then without any feature extraction the deep learning model hopefully will be able to figure out the different rules and change all the different weights uh so that it can do like its classification or regression tasks properly so again in with feature engineering and traditional machine learning we just extract features and then we pass features to the machine learning algorithm whereas with deep learning we just pass the row data itself we don't extract any features and in the case of onset detection as we as we sow we just pass the whole waveform directly into the system and and so this is why this is an end to end approach because basically you just like provide row data and hopefully you'll get the rules and the system the model is going to learn directly from their data discovering the different patterns directly in the data right so so feature engineering versus end to end is just like one difference between traditional machine learning versus deep learning there are a bunch of others so usually with traditional machine learning you you can you can you can you can make it with a relatively small data set and here at least we're talking about like thousands of samples but for deep learning you really need large data sets and so here we're talking about hundreds of thousands if not millions because traditional machine learning is way less computational intensive whereas deep learning is very resource intensive and so all of this like differences like make it like ideal for traditional machine learning to tackle relatively simple problems whereas for deep learning its ideal application is with complex problems deep learning works really really well for example with problems that with traditional machine learning like it's very difficult to tackle like for example like image recognition or a bunch of like audio AI problems like speech recognition or like genre classification and all of this kind of things right so and so we've seen the differences between machine learning traditional machine learning and deep learning so a question that may arise is when should you use deep learning well deep learning isn't always the solution well I would say if you can you should go with like traditional machine learning approaches first because like they're cheaper and they're quicker all around so when should you use deep learning so if you have a very large data set then probably it makes sense like to have deep learning algorithm algorithms instead of machine traditional machine learning ones and then if you're tackling a complex problem where traditional machine learning fails then it's advisable to move on and try to use deep learning and then you should have access to extensive computational resources as specifically a GPUs to use deep learning and one last thing that I would add here is that obviously you should have the expertise to tackle deep learning problems with deep learning because like they are it's kind of like quite calm it can get complicated and you want to have a very good understanding of how to like trick parameters so that your deep learning like models are going to work decently right cool so um given like as I mentioned in my previous video I'm going to be focusing on audio like and music so applications in deep learning for audio and music so here I would just wanted to give you a little bit of an idea what we can do with deep learning in audio so we can use deep learning for uh tasks like speech recognition for classifying emotions just by looking at or analyzing voice or for doing things like nicer recognition and in the music side of things that sometimes gets called music information retrieval we can use deep learning to extract or to classify music asandra to understand the different types of instruments that we have in a song and then also for doing mood classification so we have a bunch of different songs and we should decide is this a happy song or is this a sad song and then we can use deep learning for doing music tagging so basically to to put tags onto different songs and then the thing like that's the most exciting for me and the work that I've also done like at Melodrive so it's the application of deep learning for music generation so you use system you train a model that can generate music by itself and that's like super exciting stuff and hopefully we'll be seeing like a little bit of this like down the line during uh the series right so we're almost at the end of this quite long video so and I won't just like to leave you with a few takeaway points so first of all what's artificial intelligence well artificial intelligence is the art and science of building a rational agents that act to achieve their goals given the environment and the beliefs they are in so machine learning is a subset of artificial intelligence don't make the mistake that many people do and it's so annoying when they say yeah AI and they use it interchangeably with ML it's not true AI is way more than just machine learning and machine learning is a subset of AI then there are different flavors of machine learning and within three here so when you supervise learning which will be focusing on the most then we have unsupervised learning and then we have reinforcement learning and then machine learning has a ton of different algorithms so linear regression support vector machines but mainly at least left for us neural networks and neural networks are used by deep learning and in deep learning we use deep neural networks which are neural networks that have more than one hidden layer and remember deep learning is a subset of machine learning and finally so even though deep learning is super fashionable nowadays deep learning isn't always the way to go try the simple things first and then if they fail so if super vector machines fail if a simple logistic regression fails then move on to deep learning but don't use it like as a go to solution right so this was it like for this video so in the next video we're going to talk about neurons which are the units which make up neural networks and we're going to be coding a neuron from scratch ourselves so thank you very much for watching this video and if you liked it you can subscribe and please like it and I'll see you next time cheers\n"
     ]
    }
   ],
   "source": [
    "print(result3[\"text\"])"
   ]
  }
 ],
 "metadata": {
  "kernelspec": {
   "display_name": "venv",
   "language": "python",
   "name": "python3"
  },
  "language_info": {
   "codemirror_mode": {
    "name": "ipython",
    "version": 3
   },
   "file_extension": ".py",
   "mimetype": "text/x-python",
   "name": "python",
   "nbconvert_exporter": "python",
   "pygments_lexer": "ipython3",
   "version": "3.10.8"
  },
  "orig_nbformat": 4
 },
 "nbformat": 4,
 "nbformat_minor": 2
}
